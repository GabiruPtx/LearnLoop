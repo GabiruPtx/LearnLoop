{
 "cells": [
  {
   "cell_type": "code",
   "execution_count": null,
   "id": "initial_id",
   "metadata": {
    "collapsed": true
   },
   "outputs": [],
   "source": [
    "from django.test import TestCase, Client\n",
    "from django.urls import reverse\n",
    "from django.contrib.auth import get_user_model\n",
    "from public.models import UsuarioPersonalizado, PerfilAluno, PerfilProfessor, Projeto\n",
    "\n",
    "class TestViews(TestCase):\n",
    "    def setUp(self):\n",
    "        self.client = Client()\n",
    "        self.User = get_user_model()\n",
    "        \n",
    "        # Criar usuário para testes\n",
    "        self.usuario = self.User.objects.create_user(\n",
    "            username='testuser',\n",
    "            email='test@example.com',\n",
    "            password='testpassword123'\n",
    "        )\n",
    "        \n",
    "    def test_index_usuario_nao_autenticado(self):\n",
    "        \"\"\"Teste: usuário não autenticado deve ser redirecionado para página de login\"\"\"\n",
    "        response = self.client.get(reverse('public:index'))\n",
    "        self.assertEqual(response.status_code, 302)  # Verifica o redirecionamento\n",
    "        # Verificar se o redirecionamento é para a página de login\n",
    "        self.assertIn('/login/', response.url)  # Ajuste conforme o padrão de URL do seu sistema\n",
    "        \n",
    "    def test_login_view(self):\n",
    "        \"\"\"Teste: página de login deve ser acessível\"\"\"\n",
    "        response = self.client.get(reverse('public:login'))\n",
    "        self.assertEqual(response.status_code, 200)\n",
    "        \n",
    "    def test_login_autenticacao_sucesso(self):\n",
    "        \"\"\"Teste: login com credenciais válidas deve redirecionar para index\"\"\"\n",
    "        response = self.client.post(reverse('public:login'), {\n",
    "            'username': 'testuser',\n",
    "            'password': 'testpassword123'\n",
    "        })\n",
    "        self.assertEqual(response.status_code, 302)\n",
    "        self.assertEqual(response.url, reverse('public:index'))\n",
    "        \n",
    "    def test_login_autenticacao_falha(self):\n",
    "        \"\"\"Teste: login com credenciais inválidas deve retornar à página de login\"\"\"\n",
    "        response = self.client.post(reverse('public:login'), {\n",
    "            'username': 'testuser',\n",
    "            'password': 'senhaerrada'\n",
    "        })\n",
    "        self.assertEqual(response.status_code, 200)\n",
    "        \n",
    "    def test_acesso_pagina_protegida_usuario_autenticado(self):\n",
    "        \"\"\"Teste: usuário autenticado deve acessar páginas protegidas\"\"\"\n",
    "        self.client.login(username='testuser', password='testpassword123')\n",
    "        response = self.client.get(reverse('public:index'))\n",
    "        self.assertEqual(response.status_code, 200)\n",
    "        \n",
    "    def test_logout(self):\n",
    "        \"\"\"Teste: logout deve redirecionar para a página de login\"\"\"\n",
    "        self.client.login(username='testuser', password='testpassword123')\n",
    "        response = self.client.get(reverse('public:logout'))\n",
    "        self.assertEqual(response.status_code, 302)\n",
    "        self.assertIn('/login/', response.url)"
   ]
  }
 ],
 "metadata": {
  "kernelspec": {
   "display_name": "Python 3",
   "language": "python",
   "name": "python3"
  },
  "language_info": {
   "codemirror_mode": {
    "name": "ipython",
    "version": 2
   },
   "file_extension": ".py",
   "mimetype": "text/x-python",
   "name": "python",
   "nbconvert_exporter": "python",
   "pygments_lexer": "ipython2",
   "version": "2.7.6"
  }
 },
 "nbformat": 4,
 "nbformat_minor": 5
}
